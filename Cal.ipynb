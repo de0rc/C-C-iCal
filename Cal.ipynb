{
 "cells": [
  {
   "cell_type": "markdown",
   "metadata": {},
   "source": [
    "Dependencies"
   ]
  },
  {
   "cell_type": "code",
   "execution_count": 1,
   "metadata": {},
   "outputs": [],
   "source": [
    "from PIL import Image\n",
    "import pytesseract\n",
    "import numpy as np\n",
    "import cv2\n",
    "import csv"
   ]
  },
  {
   "cell_type": "markdown",
   "metadata": {},
   "source": [
    "Declare directories for all images in input folder"
   ]
  },
  {
   "cell_type": "code",
   "execution_count": 7,
   "metadata": {},
   "outputs": [],
   "source": [
    "dir = './input/'\n",
    "from os import listdir\n",
    "filelist = sorted([f for f in listdir(dir) if f.lower().endswith('.png')])\n",
    "filename = [dir + s for s in filelist]"
   ]
  },
  {
   "cell_type": "markdown",
   "metadata": {},
   "source": [
    "Image processing & OCR"
   ]
  },
  {
   "cell_type": "code",
   "execution_count": 8,
   "metadata": {},
   "outputs": [],
   "source": [
    "text = []\n",
    "for count, value in enumerate(filename):\n",
    "    img = cv2.imread(value)\n",
    "    hsv0 = cv2.cvtColor(img,cv2.COLOR_BGR2HSV)\n",
    "    #remove jabber bg\n",
    "    jMIN = np.array([50, 28, 142],np.uint8)\n",
    "    jMAX = np.array([87, 82, 207],np.uint8)\n",
    "    maskJ = cv2.inRange(hsv0, jMIN, jMAX)\n",
    "    img[maskJ>0] = (0,0,0) #using maskJ, make that area black\n",
    "    hsv = cv2.cvtColor(img,cv2.COLOR_BGR2HSV)\n",
    "\n",
    "    img = cv2.cvtColor(img, cv2.COLOR_BGR2GRAY)\n",
    "    ret1,img = cv2.threshold(img,156,255,cv2.THRESH_BINARY) #global threshold\n",
    "\n",
    "    #Alliance Legion to White\n",
    "    aMIN = np.array([17, 137, 168],np.uint8)\n",
    "    aMAX = np.array([19, 146, 220],np.uint8)\n",
    "    maskA = cv2.inRange(hsv, aMIN, aMAX) #creates a mask of color range between acMIN and acMAX\n",
    "    maskA[:,:669] = 0 #remove left\n",
    "    maskA[:,749:] = 0 #remove right\n",
    "    kernel = np.ones((2, 2), 'uint8')\n",
    "\n",
    "    #Timer to White\n",
    "    tMIN = np.array([16, 28, 122],np.uint8)\n",
    "    tMAX = np.array([21, 71, 240],np.uint8)\n",
    "    maskT = cv2.inRange(hsv, tMIN, tMAX)\n",
    "    maskT[:,:636] = 0 #remove left\n",
    "    maskT[:,780:] = 0 #remove right\n",
    "\n",
    "    #Infernal to White\n",
    "    iMIN = np.array([9, 122, 170],np.uint8)\n",
    "    iMAX = np.array([29, 197, 255],np.uint8)\n",
    "    maskI = cv2.inRange(hsv, iMIN, iMAX)\n",
    "    maskI[:,:37] = maskI[:,77:671] = maskI[:,749:] = 0 #remove\n",
    "\n",
    "    img[maskA>0] = img[maskT>0] = img[maskI>0] = 255 #add Alliance, Timer, and Infernal mask\n",
    "    img[:805,:] = img[:,:35] = img[:,785:] = img[:,370:630] = 0 #clear upper, left, and right borde\n",
    "\n",
    "    img = cv2.resize(img, (img.shape[1]*3,img.shape[0]*3))\n",
    "    kernel = np.ones((4, 4), 'uint8')\n",
    "    img = cv2.dilate(img, kernel, iterations=1)\n",
    "    img = cv2.bitwise_not(img) #Invert image to negative\n",
    "\n",
    "    #Tesseract OCR\n",
    "    custom_config = r'-l eng --psm 6 -c tessedit_char_whitelist=\"01234567890ABCDEFGHIJKLMNOPQRSTUVWXYZabcdefghijklmnopqrstuvwxyz! \"  --user-words words.txt --user-patterns patterns.txt'\n",
    "    text.append(pytesseract.image_to_string(img, config=custom_config))\n"
   ]
  },
  {
   "cell_type": "markdown",
   "metadata": {},
   "source": [
    "Dictionary List"
   ]
  },
  {
   "cell_type": "code",
   "execution_count": 9,
   "metadata": {},
   "outputs": [],
   "source": [
    "import re\n",
    "\n",
    "typeDict = (\n",
    "'liance',\n",
    "'Horde',\n",
    "'ernal',\n",
    "'L?egion',\n",
    "'Persona'\n",
    ")\n",
    "\n",
    "durList = (\n",
    "'[2ao]\\s?hr',\n",
    "'[6S]\\s?hr',\n",
    "'8\\s?hr',\n",
    "'12\\s?hr',\n",
    "'24\\s?[hb]r',\n",
    "'48\\s?[hr][re]',\n",
    "'150\\s?hr',\n",
    "'[7T]\\s?day'\n",
    ") # (\\s?) is zero or 1 occurence of whitespace for regex \n",
    "\n",
    "nameDict = ('Complete Trials',\n",
    "'Conquest Challenge',\n",
    "'Damage Enemy Location',\n",
    "'Defeat Armies',\n",
    "'Defeat Foes',\n",
    "'Defeat Units',\n",
    "'Gain Champion XP',\n",
    "'Gain Iron',\n",
    "'Gain Power',\n",
    "'Gain Resources',\n",
    "'Raid Resources',\n",
    "'Ritual Completion',\n",
    "'Shard Defeat Foes',\n",
    "'Train Units',\n",
    "'Unleash Power',\n",
    "'Unleash Resources',\n",
    "'Warpstone Devourer',\n",
    "'Defeat Dwarven Armies',\n",
    "'Defeat Dwarven F[oa][egp]s',\n",
    "'Defeat Empire Armies',\n",
    "'Defeat Empire Foes',\n",
    "'Defeat Greenskin Armies',\n",
    "'Defeat Greenskin Foes',\n",
    "'Defeat Greenskin [Ss]qu[if]gs',\n",
    "'Damage Khorne Foes',\n",
    "'Damage Nurgle Foes',\n",
    "'Damage Slaneesh Foes',\n",
    "'Damage Tzeentch Foes',\n",
    "'Damage Undivided Foes',\n",
    "'City Siege',\n",
    "'Empire City Domination'\n",
    ")\n",
    "\n",
    "tRegex = (\n",
    "'[0-9l]d\\s?[0-5O]?[0-9]h\\s?[0-5][0-9]m',\n",
    "'[0-2]?[0-9l]?h?\\s?[0-5][0-9]m\\s?[0-5][0-9]s'\n",
    ")\n",
    "\n",
    "allDict = ('DOUBLE REWARDS',) + typeDict + nameDict + durList + tRegex\n",
    "\n",
    "typeA = re.compile(r'(' + (r'|'.join(allDict)) +r')') #All\n",
    "typeD = re.compile(r'(' + (r'|'.join(durList)) + r')') #Duration\n",
    "typeN = re.compile(r'(' + (r'|'.join(nameDict)) + r')') #Name\n",
    "typeT = re.compile(r'(' + (r'|'.join(tRegex)) + r')') #Timer"
   ]
  },
  {
   "cell_type": "markdown",
   "metadata": {},
   "source": [
    "Cleaning data in arrays"
   ]
  },
  {
   "cell_type": "code",
   "execution_count": 10,
   "metadata": {},
   "outputs": [
    {
     "ename": "IndexError",
     "evalue": "list index out of range",
     "output_type": "error",
     "traceback": [
      "\u001b[0;31m---------------------------------------------------------------------------\u001b[0m",
      "\u001b[0;31mIndexError\u001b[0m                                Traceback (most recent call last)",
      "\u001b[1;32m/Users/ooichosoon/Desktop/Work/C&C iCal/test.ipynb Cell 7'\u001b[0m in \u001b[0;36m<cell line: 14>\u001b[0;34m()\u001b[0m\n\u001b[1;32m     <a href='vscode-notebook-cell:/Users/ooichosoon/Desktop/Work/C%26C%20iCal/test.ipynb#ch0000006?line=37'>38</a>\u001b[0m dResults \u001b[39m=\u001b[39m [sub\u001b[39m.\u001b[39mreplace(\u001b[39m'\u001b[39m\u001b[39mhr\u001b[39m\u001b[39m'\u001b[39m, \u001b[39m'\u001b[39m\u001b[39m'\u001b[39m) \u001b[39mfor\u001b[39;00m sub \u001b[39min\u001b[39;00m dResults] \u001b[39m#remove all hr\u001b[39;00m\n\u001b[1;32m     <a href='vscode-notebook-cell:/Users/ooichosoon/Desktop/Work/C%26C%20iCal/test.ipynb#ch0000006?line=38'>39</a>\u001b[0m dR\u001b[39m.\u001b[39mappend(dResults[\u001b[39m0\u001b[39m])\n\u001b[0;32m---> <a href='vscode-notebook-cell:/Users/ooichosoon/Desktop/Work/C%26C%20iCal/test.ipynb#ch0000006?line=39'>40</a>\u001b[0m dR\u001b[39m.\u001b[39mappend(dResults[\u001b[39m1\u001b[39;49m])\n\u001b[1;32m     <a href='vscode-notebook-cell:/Users/ooichosoon/Desktop/Work/C%26C%20iCal/test.ipynb#ch0000006?line=41'>42</a>\u001b[0m tResults \u001b[39m=\u001b[39m typeT\u001b[39m.\u001b[39mfindall(Results)\n\u001b[1;32m     <a href='vscode-notebook-cell:/Users/ooichosoon/Desktop/Work/C%26C%20iCal/test.ipynb#ch0000006?line=42'>43</a>\u001b[0m tResults \u001b[39m=\u001b[39m [sub\u001b[39m.\u001b[39mreplace(\u001b[39m'\u001b[39m\u001b[39ml\u001b[39m\u001b[39m'\u001b[39m, \u001b[39m'\u001b[39m\u001b[39m1\u001b[39m\u001b[39m'\u001b[39m) \u001b[39mfor\u001b[39;00m sub \u001b[39min\u001b[39;00m tResults] \u001b[39m#replace l with 1\u001b[39;00m\n",
      "\u001b[0;31mIndexError\u001b[0m: list index out of range"
     ]
    }
   ],
   "source": [
    "#Results, Initialize arrays\n",
    "sR = []\n",
    "dR = []\n",
    "tR = []\n",
    "oD = []\n",
    "count = 0\n",
    "\n",
    "#DateTime\n",
    "from datetime import datetime, timedelta\n",
    "\n",
    "def get_date_taken(path):\n",
    "    return Image.open(path)._getexif()[36867]\n",
    "\n",
    "for count, value in enumerate(text):\n",
    "    findA = typeA.findall(value)\n",
    "    findA = [w.replace('ernal', 'Infernal')\n",
    "        .replace('liance', 'Alliance')\n",
    "        .replace('Persona', 'Personal')\n",
    "        .replace('Location', 'Locations')\n",
    "        .replace('Squfgs', 'Squigs') for w in findA]\n",
    "\n",
    "\n",
    "    while re.match('Alliance|Horde|Infernal|Legion|Personal|DOUBLE REWARDS',findA[0]) == None: #while first element is not DR or typeDict, remove it\n",
    "        del findA[0]\n",
    "    while re.match(\"(\" + \")|(\".join(tRegex) + \")\",findA[-1]) == None: #while last element is not Timer, remove it\n",
    "        del findA[-1]\n",
    "\n",
    "    Results = ' '.join(findA)\n",
    "    sResults = typeD.sub('',Results) #remove all Duration using typeD from DurList\n",
    "    sResults = re.sub('\\s+',' ',sResults) #change double white space to 1\n",
    "    sResults = re.sub('Fo[g|p]s','Foes',sResults) #change double white space to 1\n",
    "    sResults = re.split(\"\" + \"|\\s*\".join(tRegex) + \"\\s*\",sResults) #with brackets () outside the sq brackets[], the delimiter is captured/kept\n",
    "    sR.append(sResults[0])\n",
    "    sR.append(sResults[1])\n",
    "\n",
    "    dResults = typeD.findall(Results)\n",
    "    dResults = [sub.replace('7 day', '168') for sub in dResults] #convert 7day into 168\n",
    "    dResults = [sub.replace('hr', '') for sub in dResults] #remove all hr\n",
    "    dR.append(dResults[0])\n",
    "    dR.append(dResults[1])\n",
    "\n",
    "    tResults = typeT.findall(Results)\n",
    "    tResults = [sub.replace('l', '1') for sub in tResults] #replace l with 1\n",
    "    tResults = [sub.replace(' ', '') for sub in tResults] #remove all whitespace\n",
    "    tR.append(tResults[0])\n",
    "    tR.append(tResults[1])\n",
    "\n",
    "    DTstr = get_date_taken(filename[count])\n",
    "    DTobj = datetime.strptime(DTstr, '%Y:%m:%d %H:%M:%S')\n",
    "    oD.append(DTobj)\n",
    "    oD.append(DTobj)\n",
    "sR = [x.strip(' ') for x in sR] #strip whitespace both ways"
   ]
  },
  {
   "cell_type": "markdown",
   "metadata": {},
   "source": [
    "Writes output.txt showing all texts after OCR"
   ]
  },
  {
   "cell_type": "code",
   "execution_count": 12,
   "metadata": {},
   "outputs": [
    {
     "name": "stdout",
     "output_type": "stream",
     "text": [
      "Done\n"
     ]
    }
   ],
   "source": [
    "a=[]\n",
    "for count, value in enumerate(text):\n",
    "    findA = typeA.findall(value)\n",
    "    a.append(findA)\n",
    "\n",
    "with open(\"output.txt\", \"w\") as fp:\n",
    "    for item in a:\n",
    "        # write each item on a new line\n",
    "        fp.write(\"%s\\n\" % item)\n",
    "    print('Done')"
   ]
  },
  {
   "cell_type": "markdown",
   "metadata": {},
   "source": [
    "View output of all desired text"
   ]
  },
  {
   "cell_type": "code",
   "execution_count": 23,
   "metadata": {},
   "outputs": [
    {
     "data": {
      "text/plain": [
       "['8 hr',\n",
       " 'Complete Trials',\n",
       " '1d 04h 51m',\n",
       " 'Legion',\n",
       " '48 hr',\n",
       " 'Defeat Armies',\n",
       " '8 hr',\n",
       " 'Defeat Foes']"
      ]
     },
     "execution_count": 23,
     "metadata": {},
     "output_type": "execute_result"
    }
   ],
   "source": [
    "findA = typeA.findall(text[3])\n",
    "findA"
   ]
  },
  {
   "cell_type": "markdown",
   "metadata": {},
   "source": [
    "Date created detection using Python Imaging Library (Pillow)"
   ]
  },
  {
   "cell_type": "code",
   "execution_count": null,
   "metadata": {},
   "outputs": [],
   "source": [
    "import pytz\n",
    "#start empty arrays\n",
    "sT = []\n",
    "eT = []\n",
    "#Round off datetime\n",
    "def round1s(t):\n",
    "    # Rounds to nearest hour by adding a timedelta hour if minute >= 30\n",
    "    return (t.replace(second=1, minute=0, hour=t.hour)\n",
    "               +timedelta(hours=t.minute//30))\n",
    "\n",
    "for count, value in enumerate(tR):\n",
    "    if re.match(r'([0-2]?[0-9]h[0-5][0-9]m[0-5][0-9]s)',value)!=None:\n",
    "        t = datetime.strptime(value, '%Hh%Mm%Ss')\n",
    "    elif re.match(r'([0-9]d[0-2][0-9]h[0-5][0-9]m)',value)!=None:\n",
    "        t = datetime.strptime(value, '%dd%Hh%Mm')\n",
    "        t = t.replace(day = t.day+1) #+1 because h/m/s has 1d that can't be removed\n",
    "    deltaS = timedelta(days=t.day-1,hours=t.hour, minutes=t.minute, seconds=t.second) #\n",
    "    sTime = oD[count] + deltaS\n",
    "    sTime = round1s(sTime)\n",
    "    sT.append(sTime.isoformat()+'+01:00') #+01:00 to match Google Cal format\n",
    "\n",
    "    deltaE = timedelta(hours=int(dR[count]))\n",
    "    eTime = sTime + deltaE\n",
    "    eTime = round1s(eTime)\n",
    "    eT.append(eTime.isoformat()+'+01:00')"
   ]
  },
  {
   "cell_type": "code",
   "execution_count": null,
   "metadata": {},
   "outputs": [],
   "source": [
    "import pandas as pd\n",
    "df = pd.DataFrame({'eventN': pd.Series(dtype='str'),\n",
    "                   'startT': pd.Series(dtype='datetime64[ns]'),\n",
    "                   'endT': pd.Series(dtype='datetime64[ns]')})\n",
    "\n",
    "columns = list(df)\n",
    "data = []\n",
    "for i in range(len(sR)):\n",
    "    values = [sR[i], sT[i], eT[i]]\n",
    "    zipped = zip(columns, values)\n",
    "    a_dictionary = dict(zipped)\n",
    "    print(a_dictionary)\n",
    "    data.append(a_dictionary)\n",
    "\n",
    "df = df.append(data, True)\n",
    "df = df.drop_duplicates()"
   ]
  },
  {
   "cell_type": "markdown",
   "metadata": {},
   "source": [
    "Get Calendar List"
   ]
  },
  {
   "cell_type": "code",
   "execution_count": null,
   "metadata": {},
   "outputs": [],
   "source": [
    "from cal_setup import get_calendar_service\n",
    "calID = 'insert_cal_ID'\n",
    "\n",
    "data = []\n",
    "dfCal = pd.DataFrame({'eventN': pd.Series(dtype='str'),\n",
    "                    'startT': pd.Series(dtype='datetime64[ns]'),\n",
    "                    'endT': pd.Series(dtype='datetime64[ns]'),\n",
    "                    'eID': pd.Series(dtype='str')\n",
    "                    })\n",
    "columns = list(dfCal)\n",
    "\n",
    "service = get_calendar_service()\n",
    "# Call the Calendar API\n",
    "print('Getting List of 100 events')\n",
    "events_result = service.events().list(\n",
    "    calendarId= calID,\n",
    "    maxResults=100, singleEvents=True,\n",
    "    orderBy='startTime').execute()\n",
    "events = events_result.get('items', [])\n",
    "\n",
    "if not events:\n",
    "    print('No upcoming events found.')\n",
    "for event in events:\n",
    "    start = event['start'].get('dateTime', event['start'].get('date'))\n",
    "    end = event['end'].get('dateTime', event['end'].get('date'))\n",
    "    IDe = event['id']\n",
    "    dfTemp = [event['summary'], start, end, IDe]\n",
    "    zipped = zip(columns, dfTemp)\n",
    "    a_dictionary = dict(zipped)\n",
    "    data.append(a_dictionary)\n",
    "\n",
    "dfCal = dfCal.append(data, True) #append data to dfCal"
   ]
  },
  {
   "cell_type": "markdown",
   "metadata": {},
   "source": [
    "Merge arrays while dropping duplicates"
   ]
  },
  {
   "cell_type": "code",
   "execution_count": null,
   "metadata": {},
   "outputs": [],
   "source": [
    "dfNew = pd.concat([df,dfCal]) #concat old and input(new) events\n",
    "dfNew.drop_duplicates(subset=['eventN','startT','endT'],keep=False, inplace=True) #Drop duplicate events\n",
    "dfNew[dfNew['eID'].isnull()] #drop events already on Google Calendar"
   ]
  },
  {
   "cell_type": "markdown",
   "metadata": {},
   "source": [
    "Create Event"
   ]
  },
  {
   "cell_type": "code",
   "execution_count": null,
   "metadata": {},
   "outputs": [],
   "source": [
    "from cal_setup import get_calendar_service\n",
    "\n",
    "for index, count in dfNew.iterrows():\n",
    "    event_result = service.events().insert(calendarId=calID,\n",
    "        body={\n",
    "            \"summary\": count['eventN'],\n",
    "            \"description\": '',\n",
    "            \"start\": {\"dateTime\": count['startT'], \"timeZone\": 'Europe/London'},\n",
    "            \"end\": {\"dateTime\": count['endT'], \"timeZone\": 'Europe/London'},\n",
    "        }\n",
    "    ).execute()"
   ]
  },
  {
   "cell_type": "markdown",
   "metadata": {},
   "source": [
    "Delete duplicate events from Google Cal"
   ]
  },
  {
   "cell_type": "code",
   "execution_count": null,
   "metadata": {},
   "outputs": [],
   "source": [
    "dfDup = dfCal[dfCal.duplicated(subset=['eventN','startT','endT'])]\n",
    "for index, count in dfDup.iterrows():\n",
    "    service.events().delete(calendarId=calID, eventId=count['eID']).execute()"
   ]
  },
  {
   "cell_type": "markdown",
   "metadata": {},
   "source": [
    "Delete Past Events"
   ]
  },
  {
   "cell_type": "code",
   "execution_count": null,
   "metadata": {},
   "outputs": [],
   "source": [
    "now = datetime.now()\n",
    "current_time = now.strftime(\"%Y-%m-%dT%H:%M:%S+01:00\")\n",
    "for index, count in dfCal.iterrows():\n",
    "    if current_time > count['endT']:\n",
    "        service.events().delete(calendarId=calID, eventId=count['eID']).execute()"
   ]
  }
 ],
 "metadata": {
  "interpreter": {
   "hash": "aee8b7b246df8f9039afb4144a1f6fd8d2ca17a180786b69acc140d282b71a49"
  },
  "kernelspec": {
   "display_name": "Python 3.9.1 64-bit",
   "language": "python",
   "name": "python3"
  },
  "language_info": {
   "codemirror_mode": {
    "name": "ipython",
    "version": 3
   },
   "file_extension": ".py",
   "mimetype": "text/x-python",
   "name": "python",
   "nbconvert_exporter": "python",
   "pygments_lexer": "ipython3",
   "version": "3.9.1"
  },
  "orig_nbformat": 4
 },
 "nbformat": 4,
 "nbformat_minor": 2
}
